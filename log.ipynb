{
 "cells": [
  {
   "cell_type": "code",
   "execution_count": 1,
   "metadata": {
    "collapsed": true
   },
   "outputs": [],
   "source": [
    "import numpy as np\n",
    "import pandas as pd\n",
    "import requests\n",
    "from time import sleep"
   ]
  },
  {
   "cell_type": "code",
   "execution_count": 2,
   "metadata": {
    "collapsed": true
   },
   "outputs": [],
   "source": [
    "sp_cep = pd.read_csv('ceps/sp.cepaberto.csv',names=['cep','rua','bairro','id_cidade','id_bairro'])\n",
    "rs_cep = pd.read_csv('ceps/rs.cepaberto.csv',names=['cep','rua','bairro','id_cidade','id_bairro'])\n",
    "mg_cep = pd.read_csv('ceps/mg.cepaberto.csv',names=['cep','rua','bairro','id_cidade','id_bairro'])\n",
    "sc_cep = pd.read_csv('ceps/sc.cepaberto.csv',names=['cep','rua','bairro','id_cidade','id_bairro'])\n",
    "\n",
    "cidades = pd.read_csv('ceps/cities.csv',names=['id_cidade','nome_cidade','id_estado'])\n",
    "estados = pd.read_csv('ceps/states.csv',names=['id_estado','nome_estado','sigla_estado'])\n",
    "cidades_estados = pd.merge(cidades,estados,how='left',on='id_estado')\n",
    "\n",
    "#cria a base\n",
    "sp_cep = sp_cep.merge(cidades_estados,how='left',on='id_cidade')\n",
    "rs_cep = rs_cep.merge(cidades_estados,how='left',on='id_cidade')\n",
    "mg_cep = mg_cep.merge(cidades_estados,how='left',on='id_cidade')\n",
    "sc_cep = sc_cep.merge(cidades_estados,how='left',on='id_cidade')"
   ]
  },
  {
   "cell_type": "code",
   "execution_count": 3,
   "metadata": {
    "collapsed": true,
    "scrolled": true
   },
   "outputs": [],
   "source": [
    "sp_num_ceps = sp_cep.nome_cidade.value_counts().reset_index().rename(columns={'index':'nome_cidade','nome_cidade':'cidade_counts'})\n",
    "rs_num_ceps = rs_cep.nome_cidade.value_counts().reset_index().rename(columns={'index':'nome_cidade','nome_cidade':'cidade_counts'})\n",
    "mg_num_ceps = mg_cep.nome_cidade.value_counts().reset_index().rename(columns={'index':'nome_cidade','nome_cidade':'cidade_counts'})\n",
    "sc_num_ceps = sc_cep.nome_cidade.value_counts().reset_index().rename(columns={'index':'nome_cidade','nome_cidade':'cidade_counts'})"
   ]
  },
  {
   "cell_type": "code",
   "execution_count": 4,
   "metadata": {
    "collapsed": true
   },
   "outputs": [],
   "source": [
    "sp_cep = sp_cep.merge(sp_num_ceps,how='left',on='nome_cidade')\n",
    "rs_cep = rs_cep.merge(rs_num_ceps,how='left',on='nome_cidade')\n",
    "mg_cep = mg_cep.merge(mg_num_ceps,how='left',on='nome_cidade')\n",
    "sc_cep = sc_cep.merge(sc_num_ceps,how='left',on='nome_cidade')"
   ]
  },
  {
   "cell_type": "code",
   "execution_count": 5,
   "metadata": {
    "collapsed": true
   },
   "outputs": [],
   "source": [
    "sp_cep = sp_cep[sp_cep.cidade_counts > 100]\n",
    "rs_cep = rs_cep[rs_cep.cidade_counts > 100]\n",
    "mg_cep = mg_cep[mg_cep.cidade_counts > 100]\n",
    "sc_cep = sc_cep[sc_cep.cidade_counts > 100]"
   ]
  },
  {
   "cell_type": "code",
   "execution_count": 6,
   "metadata": {
    "collapsed": true
   },
   "outputs": [],
   "source": [
    "fracao = 0.1\n",
    "sp_cep = sp_cep.groupby('id_cidade', group_keys=False).apply(lambda x: x.sample(frac=fracao))\n",
    "rs_cep = rs_cep.groupby('id_cidade', group_keys=False).apply(lambda x: x.sample(frac=fracao))\n",
    "mg_cep = mg_cep.groupby('id_cidade', group_keys=False).apply(lambda x: x.sample(frac=fracao))\n",
    "sc_cep = sc_cep.groupby('id_cidade', group_keys=False).apply(lambda x: x.sample(frac=fracao))\n"
   ]
  },
  {
   "cell_type": "code",
   "execution_count": 34,
   "metadata": {
    "collapsed": true
   },
   "outputs": [],
   "source": [
    "rs_bairros = rs_cep.groupby(['id_cidade']).apply(lambda df: df.sample(1))[['cep','id_cidade']].reset_index(drop=True)\n",
    "sp_bairros = sp_cep.groupby(['id_cidade']).apply(lambda df: df.sample(1))[['cep','id_cidade']].reset_index(drop=True)\n",
    "sc_bairros = sc_cep.groupby(['id_cidade']).apply(lambda df: df.sample(1))[['cep','id_cidade']].reset_index(drop=True)\n",
    "mg_bairros = mg_cep.groupby(['id_cidade']).apply(lambda df: df.sample(1))[['cep','id_cidade']].reset_index(drop=True)"
   ]
  },
  {
   "cell_type": "code",
   "execution_count": 35,
   "metadata": {},
   "outputs": [
    {
     "data": {
      "text/plain": [
       "cep          7434525\n",
       "id_cidade        709\n",
       "Name: 6, dtype: int64"
      ]
     },
     "execution_count": 35,
     "metadata": {},
     "output_type": "execute_result"
    }
   ],
   "source": [
    "sp_bairros.iloc[6]"
   ]
  },
  {
   "cell_type": "code",
   "execution_count": 40,
   "metadata": {},
   "outputs": [],
   "source": [
    "sp_bairros = sp_bairros[sp_bairros.cep != 7434525]"
   ]
  },
  {
   "cell_type": "code",
   "execution_count": 29,
   "metadata": {
    "scrolled": true
   },
   "outputs": [
    {
     "ename": "SyntaxError",
     "evalue": "invalid token (<ipython-input-29-419ca439062c>, line 1)",
     "output_type": "error",
     "traceback": [
      "\u001b[0;36m  File \u001b[0;32m\"<ipython-input-29-419ca439062c>\"\u001b[0;36m, line \u001b[0;32m1\u001b[0m\n\u001b[0;31m    requests.get(base_url + str(07400200), headers={'Authorization': 'Token token={}'.format(token)})\u001b[0m\n\u001b[0m                                       ^\u001b[0m\n\u001b[0;31mSyntaxError\u001b[0m\u001b[0;31m:\u001b[0m invalid token\n"
     ]
    }
   ],
   "source": [
    "requests.get(base_url + str(07400200), headers={'Authorization': 'Token token={}'.format(token)})"
   ]
  },
  {
   "cell_type": "code",
   "execution_count": 41,
   "metadata": {
    "scrolled": true
   },
   "outputs": [
    {
     "name": "stdout",
     "output_type": "stream",
     "text": [
      "CEP: 13465190, LAT: -22.7480569, LONG: -47.3344583, PROG: 0.0\n",
      "CEP: 13903270, LAT: -22.7144109, LONG: -46.7699743, PROG: 0.9708737864077669\n",
      "CEP: 16900453, LAT: -20.9098065, LONG: -51.3751202, PROG: 1.9417475728155338\n",
      "CEP: 16018660, LAT: -21.2255897, LONG: -50.430327, PROG: 2.912621359223301\n",
      "CEP: 14808355, LAT: -21.8115264, LONG: -48.1520784, PROG: 3.8834951456310676\n",
      "CEP: 13601081, LAT: -22.3621008, LONG: -47.3855379, PROG: 4.854368932038835\n",
      "CEP: 19813372, LAT: -22.6604341, LONG: -50.4187813, PROG: 5.825242718446602\n",
      "CEP: 12940610, LAT: -23.1146494, LONG: -46.549607, PROG: 6.796116504854369\n",
      "CEP: 18703778, LAT: -23.1225888, LONG: -48.9264086, PROG: 7.766990291262135\n",
      "CEP: 14787130, LAT: -20.5270679, LONG: -48.5695587, PROG: 8.737864077669903\n"
     ]
    },
    {
     "ename": "JSONDecodeError",
     "evalue": "Expecting value: line 1 column 1 (char 0)",
     "output_type": "error",
     "traceback": [
      "\u001b[0;31m---------------------------------------------------------------------------\u001b[0m",
      "\u001b[0;31mJSONDecodeError\u001b[0m                           Traceback (most recent call last)",
      "\u001b[0;32m<ipython-input-41-edc62eb52656>\u001b[0m in \u001b[0;36m<module>\u001b[0;34m()\u001b[0m\n\u001b[1;32m     11\u001b[0m     \u001b[0murl\u001b[0m \u001b[0;34m=\u001b[0m \u001b[0mbase_url\u001b[0m \u001b[0;34m+\u001b[0m \u001b[0mstr\u001b[0m\u001b[0;34m(\u001b[0m\u001b[0mcep\u001b[0m\u001b[0;34m)\u001b[0m\u001b[0;34m\u001b[0m\u001b[0m\n\u001b[1;32m     12\u001b[0m     \u001b[0mr\u001b[0m \u001b[0;34m=\u001b[0m \u001b[0mrequests\u001b[0m\u001b[0;34m.\u001b[0m\u001b[0mget\u001b[0m\u001b[0;34m(\u001b[0m\u001b[0murl\u001b[0m\u001b[0;34m,\u001b[0m \u001b[0mheaders\u001b[0m\u001b[0;34m=\u001b[0m\u001b[0;34m{\u001b[0m\u001b[0;34m'Authorization'\u001b[0m\u001b[0;34m:\u001b[0m \u001b[0;34m'Token token={}'\u001b[0m\u001b[0;34m.\u001b[0m\u001b[0mformat\u001b[0m\u001b[0;34m(\u001b[0m\u001b[0mtoken\u001b[0m\u001b[0;34m)\u001b[0m\u001b[0;34m}\u001b[0m\u001b[0;34m)\u001b[0m\u001b[0;34m\u001b[0m\u001b[0m\n\u001b[0;32m---> 13\u001b[0;31m     \u001b[0mdumm\u001b[0m \u001b[0;34m=\u001b[0m \u001b[0mdumm\u001b[0m\u001b[0;34m.\u001b[0m\u001b[0mappend\u001b[0m\u001b[0;34m(\u001b[0m\u001b[0mpd\u001b[0m\u001b[0;34m.\u001b[0m\u001b[0mDataFrame\u001b[0m\u001b[0;34m(\u001b[0m\u001b[0;34m[\u001b[0m\u001b[0;34m[\u001b[0m\u001b[0mcep\u001b[0m\u001b[0;34m,\u001b[0m\u001b[0mid_cidade\u001b[0m\u001b[0;34m,\u001b[0m\u001b[0mr\u001b[0m\u001b[0;34m.\u001b[0m\u001b[0mjson\u001b[0m\u001b[0;34m(\u001b[0m\u001b[0;34m)\u001b[0m\u001b[0;34m[\u001b[0m\u001b[0;34m'latitude'\u001b[0m\u001b[0;34m]\u001b[0m\u001b[0;34m,\u001b[0m\u001b[0mr\u001b[0m\u001b[0;34m.\u001b[0m\u001b[0mjson\u001b[0m\u001b[0;34m(\u001b[0m\u001b[0;34m)\u001b[0m\u001b[0;34m[\u001b[0m\u001b[0;34m'longitude'\u001b[0m\u001b[0;34m]\u001b[0m\u001b[0;34m]\u001b[0m\u001b[0;34m]\u001b[0m\u001b[0;34m,\u001b[0m\u001b[0mcolumns\u001b[0m\u001b[0;34m=\u001b[0m\u001b[0;34m[\u001b[0m\u001b[0;34m'cep'\u001b[0m\u001b[0;34m,\u001b[0m\u001b[0;34m'id_cidade'\u001b[0m\u001b[0;34m,\u001b[0m\u001b[0;34m'latitude'\u001b[0m\u001b[0;34m,\u001b[0m\u001b[0;34m'longitude'\u001b[0m\u001b[0;34m]\u001b[0m\u001b[0;34m)\u001b[0m\u001b[0;34m)\u001b[0m\u001b[0;34m\u001b[0m\u001b[0m\n\u001b[0m\u001b[1;32m     14\u001b[0m     \u001b[0mprint\u001b[0m\u001b[0;34m(\u001b[0m\u001b[0;34m'CEP: {}, LAT: {}, LONG: {}, PROG: {}'\u001b[0m\u001b[0;34m.\u001b[0m\u001b[0mformat\u001b[0m\u001b[0;34m(\u001b[0m\u001b[0mcep\u001b[0m\u001b[0;34m,\u001b[0m \u001b[0mr\u001b[0m\u001b[0;34m.\u001b[0m\u001b[0mjson\u001b[0m\u001b[0;34m(\u001b[0m\u001b[0;34m)\u001b[0m\u001b[0;34m[\u001b[0m\u001b[0;34m'latitude'\u001b[0m\u001b[0;34m]\u001b[0m\u001b[0;34m,\u001b[0m \u001b[0mr\u001b[0m\u001b[0;34m.\u001b[0m\u001b[0mjson\u001b[0m\u001b[0;34m(\u001b[0m\u001b[0;34m)\u001b[0m\u001b[0;34m[\u001b[0m\u001b[0;34m'longitude'\u001b[0m\u001b[0;34m]\u001b[0m\u001b[0;34m,\u001b[0m\u001b[0;34m(\u001b[0m\u001b[0mi\u001b[0m\u001b[0;34m/\u001b[0m\u001b[0mdata_len\u001b[0m\u001b[0;34m)\u001b[0m\u001b[0;34m*\u001b[0m\u001b[0;36m100\u001b[0m\u001b[0;34m)\u001b[0m\u001b[0;34m)\u001b[0m\u001b[0;34m\u001b[0m\u001b[0m\n\u001b[1;32m     15\u001b[0m     \u001b[0msleep\u001b[0m\u001b[0;34m(\u001b[0m\u001b[0;36m4.1\u001b[0m\u001b[0;34m)\u001b[0m\u001b[0;34m\u001b[0m\u001b[0m\n",
      "\u001b[0;32m~/anaconda3/lib/python3.6/site-packages/requests/models.py\u001b[0m in \u001b[0;36mjson\u001b[0;34m(self, **kwargs)\u001b[0m\n\u001b[1;32m    890\u001b[0m                     \u001b[0;31m# used.\u001b[0m\u001b[0;34m\u001b[0m\u001b[0;34m\u001b[0m\u001b[0m\n\u001b[1;32m    891\u001b[0m                     \u001b[0;32mpass\u001b[0m\u001b[0;34m\u001b[0m\u001b[0m\n\u001b[0;32m--> 892\u001b[0;31m         \u001b[0;32mreturn\u001b[0m \u001b[0mcomplexjson\u001b[0m\u001b[0;34m.\u001b[0m\u001b[0mloads\u001b[0m\u001b[0;34m(\u001b[0m\u001b[0mself\u001b[0m\u001b[0;34m.\u001b[0m\u001b[0mtext\u001b[0m\u001b[0;34m,\u001b[0m \u001b[0;34m**\u001b[0m\u001b[0mkwargs\u001b[0m\u001b[0;34m)\u001b[0m\u001b[0;34m\u001b[0m\u001b[0m\n\u001b[0m\u001b[1;32m    893\u001b[0m \u001b[0;34m\u001b[0m\u001b[0m\n\u001b[1;32m    894\u001b[0m     \u001b[0;34m@\u001b[0m\u001b[0mproperty\u001b[0m\u001b[0;34m\u001b[0m\u001b[0m\n",
      "\u001b[0;32m~/anaconda3/lib/python3.6/json/__init__.py\u001b[0m in \u001b[0;36mloads\u001b[0;34m(s, encoding, cls, object_hook, parse_float, parse_int, parse_constant, object_pairs_hook, **kw)\u001b[0m\n\u001b[1;32m    352\u001b[0m             \u001b[0mparse_int\u001b[0m \u001b[0;32mis\u001b[0m \u001b[0;32mNone\u001b[0m \u001b[0;32mand\u001b[0m \u001b[0mparse_float\u001b[0m \u001b[0;32mis\u001b[0m \u001b[0;32mNone\u001b[0m \u001b[0;32mand\u001b[0m\u001b[0;34m\u001b[0m\u001b[0m\n\u001b[1;32m    353\u001b[0m             parse_constant is None and object_pairs_hook is None and not kw):\n\u001b[0;32m--> 354\u001b[0;31m         \u001b[0;32mreturn\u001b[0m \u001b[0m_default_decoder\u001b[0m\u001b[0;34m.\u001b[0m\u001b[0mdecode\u001b[0m\u001b[0;34m(\u001b[0m\u001b[0ms\u001b[0m\u001b[0;34m)\u001b[0m\u001b[0;34m\u001b[0m\u001b[0m\n\u001b[0m\u001b[1;32m    355\u001b[0m     \u001b[0;32mif\u001b[0m \u001b[0mcls\u001b[0m \u001b[0;32mis\u001b[0m \u001b[0;32mNone\u001b[0m\u001b[0;34m:\u001b[0m\u001b[0;34m\u001b[0m\u001b[0m\n\u001b[1;32m    356\u001b[0m         \u001b[0mcls\u001b[0m \u001b[0;34m=\u001b[0m \u001b[0mJSONDecoder\u001b[0m\u001b[0;34m\u001b[0m\u001b[0m\n",
      "\u001b[0;32m~/anaconda3/lib/python3.6/json/decoder.py\u001b[0m in \u001b[0;36mdecode\u001b[0;34m(self, s, _w)\u001b[0m\n\u001b[1;32m    337\u001b[0m \u001b[0;34m\u001b[0m\u001b[0m\n\u001b[1;32m    338\u001b[0m         \"\"\"\n\u001b[0;32m--> 339\u001b[0;31m         \u001b[0mobj\u001b[0m\u001b[0;34m,\u001b[0m \u001b[0mend\u001b[0m \u001b[0;34m=\u001b[0m \u001b[0mself\u001b[0m\u001b[0;34m.\u001b[0m\u001b[0mraw_decode\u001b[0m\u001b[0;34m(\u001b[0m\u001b[0ms\u001b[0m\u001b[0;34m,\u001b[0m \u001b[0midx\u001b[0m\u001b[0;34m=\u001b[0m\u001b[0m_w\u001b[0m\u001b[0;34m(\u001b[0m\u001b[0ms\u001b[0m\u001b[0;34m,\u001b[0m \u001b[0;36m0\u001b[0m\u001b[0;34m)\u001b[0m\u001b[0;34m.\u001b[0m\u001b[0mend\u001b[0m\u001b[0;34m(\u001b[0m\u001b[0;34m)\u001b[0m\u001b[0;34m)\u001b[0m\u001b[0;34m\u001b[0m\u001b[0m\n\u001b[0m\u001b[1;32m    340\u001b[0m         \u001b[0mend\u001b[0m \u001b[0;34m=\u001b[0m \u001b[0m_w\u001b[0m\u001b[0;34m(\u001b[0m\u001b[0ms\u001b[0m\u001b[0;34m,\u001b[0m \u001b[0mend\u001b[0m\u001b[0;34m)\u001b[0m\u001b[0;34m.\u001b[0m\u001b[0mend\u001b[0m\u001b[0;34m(\u001b[0m\u001b[0;34m)\u001b[0m\u001b[0;34m\u001b[0m\u001b[0m\n\u001b[1;32m    341\u001b[0m         \u001b[0;32mif\u001b[0m \u001b[0mend\u001b[0m \u001b[0;34m!=\u001b[0m \u001b[0mlen\u001b[0m\u001b[0;34m(\u001b[0m\u001b[0ms\u001b[0m\u001b[0;34m)\u001b[0m\u001b[0;34m:\u001b[0m\u001b[0;34m\u001b[0m\u001b[0m\n",
      "\u001b[0;32m~/anaconda3/lib/python3.6/json/decoder.py\u001b[0m in \u001b[0;36mraw_decode\u001b[0;34m(self, s, idx)\u001b[0m\n\u001b[1;32m    355\u001b[0m             \u001b[0mobj\u001b[0m\u001b[0;34m,\u001b[0m \u001b[0mend\u001b[0m \u001b[0;34m=\u001b[0m \u001b[0mself\u001b[0m\u001b[0;34m.\u001b[0m\u001b[0mscan_once\u001b[0m\u001b[0;34m(\u001b[0m\u001b[0ms\u001b[0m\u001b[0;34m,\u001b[0m \u001b[0midx\u001b[0m\u001b[0;34m)\u001b[0m\u001b[0;34m\u001b[0m\u001b[0m\n\u001b[1;32m    356\u001b[0m         \u001b[0;32mexcept\u001b[0m \u001b[0mStopIteration\u001b[0m \u001b[0;32mas\u001b[0m \u001b[0merr\u001b[0m\u001b[0;34m:\u001b[0m\u001b[0;34m\u001b[0m\u001b[0m\n\u001b[0;32m--> 357\u001b[0;31m             \u001b[0;32mraise\u001b[0m \u001b[0mJSONDecodeError\u001b[0m\u001b[0;34m(\u001b[0m\u001b[0;34m\"Expecting value\"\u001b[0m\u001b[0;34m,\u001b[0m \u001b[0ms\u001b[0m\u001b[0;34m,\u001b[0m \u001b[0merr\u001b[0m\u001b[0;34m.\u001b[0m\u001b[0mvalue\u001b[0m\u001b[0;34m)\u001b[0m \u001b[0;32mfrom\u001b[0m \u001b[0;32mNone\u001b[0m\u001b[0;34m\u001b[0m\u001b[0m\n\u001b[0m\u001b[1;32m    358\u001b[0m         \u001b[0;32mreturn\u001b[0m \u001b[0mobj\u001b[0m\u001b[0;34m,\u001b[0m \u001b[0mend\u001b[0m\u001b[0;34m\u001b[0m\u001b[0m\n",
      "\u001b[0;31mJSONDecodeError\u001b[0m: Expecting value: line 1 column 1 (char 0)"
     ]
    }
   ],
   "source": [
    "base_url = 'http://www.cepaberto.com/api/v3/cep?cep='\n",
    "token = 'fa20d2aaf33fcb06a6614915bca26afb'\n",
    "\n",
    "df = sp_bairros\n",
    "dumm = pd.DataFrame(columns=['cep','id_cidade','latitude','longitude'])\n",
    "data_len = len(df)\n",
    "for i in range(len(df)):\n",
    "    cep = df.iloc[i]['cep']\n",
    "    id_cidade = df.iloc[i]['id_cidade']\n",
    "    \n",
    "    url = base_url + str(cep)\n",
    "    r = requests.get(url, headers={'Authorization': 'Token token={}'.format(token)})\n",
    "    dumm = dumm.append(pd.DataFrame([[cep,id_cidade,r.json()['latitude'],r.json()['longitude']]],columns=['cep','id_cidade','latitude','longitude']))\n",
    "    print('CEP: {}, LAT: {}, LONG: {}, PROG: {}'.format(cep, r.json()['latitude'], r.json()['longitude'],(i/data_len)*100))\n",
    "    sleep(4.1)"
   ]
  },
  {
   "cell_type": "code",
   "execution_count": null,
   "metadata": {
    "collapsed": true
   },
   "outputs": [],
   "source": [
    "sp_cep = sp_cep.merge(dumm.drop('cep',axis=1),how='left',on=['id_cidade']).dropna(axis=0)\n",
    "sp_cep = sp_cep.dropna(axis=0)"
   ]
  },
  {
   "cell_type": "code",
   "execution_count": 19,
   "metadata": {
    "collapsed": true
   },
   "outputs": [],
   "source": [
    "sp_cep.to_csv('ceps/sp_clean.csv',index=False)"
   ]
  },
  {
   "cell_type": "code",
   "execution_count": null,
   "metadata": {},
   "outputs": [],
   "source": [
    "sp_cep.isnull().sum()"
   ]
  },
  {
   "cell_type": "code",
   "execution_count": null,
   "metadata": {},
   "outputs": [],
   "source": [
    "sp_cep"
   ]
  },
  {
   "cell_type": "code",
   "execution_count": null,
   "metadata": {
    "collapsed": true
   },
   "outputs": [],
   "source": [
    "payload = {'SellerCEP': from_cep,\n",
    "           'RecipientCEP': to_cep,\n",
    "           'ShipmentInvoiceValue': 10,\n",
    "           'RecipientCountry': 10,\n",
    "           'ShippingItemArray': [{\n",
    "                    \"Weight\": 2.1,\n",
    "                    \"Length\": 14,\n",
    "                    \"Height\": 20,\n",
    "                    \"Width\": 15,\n",
    "                    \"Quantity\": 1}],\n",
    "          }\n",
    "\n",
    "headers = {\n",
    "  'Content-Type': 'application/json',\n",
    "  'token': '1C987904R7FC6R4396R88A2R3ECF09B9282E'\n",
    "}\n",
    "\n",
    "r = requests.get('http://api.frenet.com.br/shipping/quote', params=payload, headers=headers)"
   ]
  },
  {
   "cell_type": "code",
   "execution_count": 18,
   "metadata": {
    "collapsed": true
   },
   "outputs": [],
   "source": [
    "from_cep = 13084778\n",
    "to_cep = 90050100"
   ]
  },
  {
   "cell_type": "code",
   "execution_count": 32,
   "metadata": {
    "collapsed": true
   },
   "outputs": [],
   "source": [
    "base_url = 'https://www.melhorenvio.com.br/api/v2/calculator?'\n",
    "\n",
    "payload = {'from': from_cep,\n",
    "           'to': to_cep,\n",
    "           'width': 10,\n",
    "           'height': 10,\n",
    "           'length': 10,\n",
    "           'weight': 10,\n",
    "           'receipt': False,\n",
    "           'own_hand': False,\n",
    "           'insurance_value': 20.50,\n",
    "           'services': '1,2,3,4'}"
   ]
  },
  {
   "cell_type": "code",
   "execution_count": 33,
   "metadata": {
    "collapsed": true
   },
   "outputs": [],
   "source": [
    "r = requests.get('https://www.melhorenvio.com.br/api/v2/calculator', params=payload)"
   ]
  },
  {
   "cell_type": "code",
   "execution_count": 34,
   "metadata": {},
   "outputs": [
    {
     "data": {
      "text/plain": [
       "[{'company': {'id': 1,\n",
       "   'name': 'Correios',\n",
       "   'picture': 'https://www.melhorenvio.com.br/images/shipping-companies/correios.png?v=2'},\n",
       "  'error': 'Largura mínima do pacote é 11cm',\n",
       "  'id': 1,\n",
       "  'name': 'PAC'},\n",
       " {'company': {'id': 1,\n",
       "   'name': 'Correios',\n",
       "   'picture': 'https://www.melhorenvio.com.br/images/shipping-companies/correios.png?v=2'},\n",
       "  'error': 'Largura mínima do pacote é 11cm',\n",
       "  'id': 2,\n",
       "  'name': 'SEDEX'},\n",
       " {'additional_services': {'collect': False,\n",
       "   'own_hand': False,\n",
       "   'receipt': False},\n",
       "  'company': {'id': 2,\n",
       "   'name': 'JadLog',\n",
       "   'picture': 'https://www.melhorenvio.com.br/images/shipping-companies/jadlog.png?v=2'},\n",
       "  'currency': 'R$',\n",
       "  'delivery_time': 5,\n",
       "  'discount': '9.05',\n",
       "  'id': 3,\n",
       "  'name': '.Package',\n",
       "  'packages': [{'delivery_time': 5,\n",
       "    'dimensions': {'height': 10, 'length': 10, 'width': 10},\n",
       "    'discount': '9.05',\n",
       "    'format': 'box',\n",
       "    'insurance_value': '20.5',\n",
       "    'price': '39.53',\n",
       "    'products': [],\n",
       "    'weight': 10}],\n",
       "  'price': '39.53'},\n",
       " {'additional_services': {'collect': False,\n",
       "   'own_hand': False,\n",
       "   'receipt': False},\n",
       "  'company': {'id': 2,\n",
       "   'name': 'JadLog',\n",
       "   'picture': 'https://www.melhorenvio.com.br/images/shipping-companies/jadlog.png?v=2'},\n",
       "  'currency': 'R$',\n",
       "  'delivery_time': 4,\n",
       "  'discount': '63.02',\n",
       "  'id': 4,\n",
       "  'name': '.Com',\n",
       "  'packages': [{'delivery_time': 4,\n",
       "    'dimensions': {'height': 10, 'length': 10, 'width': 10},\n",
       "    'discount': '63.02',\n",
       "    'format': 'box',\n",
       "    'insurance_value': '20.5',\n",
       "    'price': '102.01',\n",
       "    'products': [],\n",
       "    'weight': 10}],\n",
       "  'price': '102.01'}]"
      ]
     },
     "execution_count": 34,
     "metadata": {},
     "output_type": "execute_result"
    }
   ],
   "source": [
    "r.json()"
   ]
  }
 ],
 "metadata": {
  "kernelspec": {
   "display_name": "Python 3",
   "language": "python",
   "name": "python3"
  },
  "language_info": {
   "codemirror_mode": {
    "name": "ipython",
    "version": 3
   },
   "file_extension": ".py",
   "mimetype": "text/x-python",
   "name": "python",
   "nbconvert_exporter": "python",
   "pygments_lexer": "ipython3",
   "version": "3.6.2"
  }
 },
 "nbformat": 4,
 "nbformat_minor": 2
}
